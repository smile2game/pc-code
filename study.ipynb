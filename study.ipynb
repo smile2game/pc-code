{
 "cells": [
  {
   "cell_type": "code",
   "execution_count": 4,
   "metadata": {},
   "outputs": [
    {
     "name": "stdout",
     "output_type": "stream",
     "text": [
      "B\n",
      "第一个\n",
      "\n",
      "nice\n",
      "第一个 第二个\n"
     ]
    }
   ],
   "source": [
    "class A:\n",
    " def __init__(self,a): \n",
    "#在实例化a = A('OK')时候会先执行一遍__init__(self,a)\n",
    "#其中有传入参数\n",
    "  print('B')\n",
    "  print(a)\n",
    " \n",
    "\n",
    "class C(A):\n",
    "    def __init__(self,b,c):   \n",
    "        #调用超类super(C,self)，就是先执行一遍父类的__init__\n",
    "        super(C,self).__init__(b)\n",
    "        print('\\nnice')\n",
    "        print(b,c)\n",
    "t = C('第一个','第二个')\n"
   ]
  },
  {
   "cell_type": "code",
   "execution_count": 5,
   "metadata": {},
   "outputs": [],
   "source": [
    "a = [100,200]"
   ]
  },
  {
   "attachments": {},
   "cell_type": "markdown",
   "metadata": {},
   "source": [
    "关于类里面魔法方法__init__,以及超类super的一些思考\n"
   ]
  }
 ],
 "metadata": {
  "kernelspec": {
   "display_name": "pytorch1",
   "language": "python",
   "name": "python3"
  },
  "language_info": {
   "codemirror_mode": {
    "name": "ipython",
    "version": 3
   },
   "file_extension": ".py",
   "mimetype": "text/x-python",
   "name": "python",
   "nbconvert_exporter": "python",
   "pygments_lexer": "ipython3",
   "version": "3.8.16"
  },
  "orig_nbformat": 4,
  "vscode": {
   "interpreter": {
    "hash": "44ecba1be7491a5bc153ef91d6a574d9526dcd4a0fdd78aab2e1c84520780719"
   }
  }
 },
 "nbformat": 4,
 "nbformat_minor": 2
}
